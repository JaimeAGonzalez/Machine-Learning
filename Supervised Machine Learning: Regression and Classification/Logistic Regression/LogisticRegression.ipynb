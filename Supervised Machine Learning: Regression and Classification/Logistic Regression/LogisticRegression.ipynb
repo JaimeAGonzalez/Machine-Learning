{
 "cells": [
  {
   "cell_type": "markdown",
   "id": "70b3d64f-63c5-4e39-9b6e-7b705f144d20",
   "metadata": {},
   "source": [
    "### 1 - Logistic Regression\n",
    "\n",
    "We have a a data set of the results of 2 exams and whether or not the student passes. From the above, it is desired to develop a classification model that predict the possibility of approving.\n",
    "\n",
    "<a name=\"Packages\"></a>\n",
    "### 2 - Packages"
   ]
  },
  {
   "cell_type": "code",
   "execution_count": 1,
   "id": "21721bd9-0d3f-4487-8ff0-fa634f097200",
   "metadata": {},
   "outputs": [],
   "source": [
    "import numpy as np\n",
    "import pandas as pd\n",
    "import matplotlib.pyplot as plt\n",
    "import copy\n",
    "import math as mt\n",
    "%matplotlib inline"
   ]
  },
  {
   "cell_type": "markdown",
   "id": "fbf043b3-2c36-47de-9a1c-a20196c9cfdf",
   "metadata": {},
   "source": [
    "<a name=\"Loading and visualizing the data\"></a>\n",
    "### 3 - Loading and visualizing the data\n",
    "\n",
    "<a name=\"Loading\"></a>\n",
    "### 3.1 - Loading\n",
    "\n",
    "$X_{Train}:$ Contain the results of both exams\n",
    "\n",
    "$Y_{Train}:$ Admission decision\n",
    "* $y^{(i)}=1:$ Student admitted\n",
    "* $y^{(i)}=0:$ Student not admitted"
   ]
  },
  {
   "cell_type": "code",
   "execution_count": 2,
   "id": "20ee5184-acd7-4a36-9c3f-a75c0c20c2a9",
   "metadata": {},
   "outputs": [
    {
     "data": {
      "text/html": [
       "<div>\n",
       "<style scoped>\n",
       "    .dataframe tbody tr th:only-of-type {\n",
       "        vertical-align: middle;\n",
       "    }\n",
       "\n",
       "    .dataframe tbody tr th {\n",
       "        vertical-align: top;\n",
       "    }\n",
       "\n",
       "    .dataframe thead th {\n",
       "        text-align: right;\n",
       "    }\n",
       "</style>\n",
       "<table border=\"1\" class=\"dataframe\">\n",
       "  <thead>\n",
       "    <tr style=\"text-align: right;\">\n",
       "      <th></th>\n",
       "      <th>Exam 1</th>\n",
       "      <th>Exam 2</th>\n",
       "      <th>Approve</th>\n",
       "    </tr>\n",
       "  </thead>\n",
       "  <tbody>\n",
       "    <tr>\n",
       "      <th>0</th>\n",
       "      <td>30.286711</td>\n",
       "      <td>43.894998</td>\n",
       "      <td>0.0</td>\n",
       "    </tr>\n",
       "    <tr>\n",
       "      <th>1</th>\n",
       "      <td>35.847409</td>\n",
       "      <td>72.902198</td>\n",
       "      <td>0.0</td>\n",
       "    </tr>\n",
       "    <tr>\n",
       "      <th>2</th>\n",
       "      <td>60.182599</td>\n",
       "      <td>86.308552</td>\n",
       "      <td>1.0</td>\n",
       "    </tr>\n",
       "    <tr>\n",
       "      <th>3</th>\n",
       "      <td>79.032736</td>\n",
       "      <td>75.344376</td>\n",
       "      <td>1.0</td>\n",
       "    </tr>\n",
       "    <tr>\n",
       "      <th>4</th>\n",
       "      <td>45.083277</td>\n",
       "      <td>56.316372</td>\n",
       "      <td>0.0</td>\n",
       "    </tr>\n",
       "  </tbody>\n",
       "</table>\n",
       "</div>"
      ],
      "text/plain": [
       "      Exam 1     Exam 2  Approve\n",
       "0  30.286711  43.894998      0.0\n",
       "1  35.847409  72.902198      0.0\n",
       "2  60.182599  86.308552      1.0\n",
       "3  79.032736  75.344376      1.0\n",
       "4  45.083277  56.316372      0.0"
      ]
     },
     "execution_count": 2,
     "metadata": {},
     "output_type": "execute_result"
    }
   ],
   "source": [
    "# Load data\n",
    "filename = 'Downloads/files/ex2data1.txt'\n",
    "data = np.loadtxt(filename, delimiter=',', skiprows=1)\n",
    "\n",
    "# Array of the inputs and outputs\n",
    "X_train = data[:, 0:2]\n",
    "Y_train = data[:, 2]\n",
    "\n",
    "# Use of pandas\n",
    "dataSet = {\"Exam 1\": X_train[:, 0],\n",
    "          \"Exam 2\": X_train[:, 1],\n",
    "          \"Approve\": Y_train}\n",
    "\n",
    "dp = pd.DataFrame(dataSet)\n",
    "dp.head()"
   ]
  },
  {
   "cell_type": "markdown",
   "id": "46e203bd-e027-4110-832c-f991d4ec01cb",
   "metadata": {},
   "source": [
    "<a name=\"Visualing the data\"></a>\n",
    "### 3.2 - Visualing the data\n",
    "\n",
    "In order to understand the behavior and clustering trends, the data is plotted."
   ]
  },
  {
   "cell_type": "code",
   "execution_count": 3,
   "id": "ba7b6a79-6a3e-4725-9810-e2c482ee1e6e",
   "metadata": {},
   "outputs": [
    {
     "data": {
      "image/png": "[encoded data removed]",
      "text/plain": [
       "<Figure size 432x288 with 1 Axes>"
      ]
     },
     "metadata": {
      "needs_background": "light"
     },
     "output_type": "display_data"
    }
   ],
   "source": [
    "# Plot the data\n",
    "plt.scatter(dp[\"Exam 1\"][dp.Approve == 0], dp[\"Exam 2\"][dp.Approve == 0],\n",
    "           marker='x',\n",
    "           color='red',\n",
    "           label='Not admitted')\n",
    "\n",
    "plt.scatter(dp[\"Exam 1\"][dp.Approve == 1], dp[\"Exam 2\"][dp.Approve == 1],\n",
    "           marker='o',\n",
    "           color='blue',\n",
    "           label='Admitted')\n",
    "\n",
    "plt.xlabel('Exam 1 score')\n",
    "plt.ylabel('Exam 2 score')\n",
    "plt.legend()\n",
    "plt.show()"
   ]
  },
  {
   "cell_type": "markdown",
   "id": "9b1d60c8-a3c1-454b-88df-83d8f96b25f2",
   "metadata": {},
   "source": [
    "### 2.3 - Sigmoid Function\n",
    "\n",
    "It is implemented the sigmoid function that shows the probability $f_{\\vec{w},b}(\\vec{x})=P(y=1|\\vec{x};\\vec{w},b)$, he model is represented as\n",
    "\n",
    "\n",
    "$$f_{\\vec{w},b}(\\vec{x})=g(\\vec{w} \\cdot \\vec{x} + b \\tag{1})$$\n",
    "\n",
    "Note that $g(z)$ is the Sigmoid function, which is defined as:\n",
    "\n",
    "$$g(z)=\\frac{1}{1-e^{-z}}|z=\\vec{w} \\cdot \\vec{x} + b \\tag{2}$$\n"
   ]
  },
  {
   "cell_type": "code",
   "execution_count": 4,
   "id": "3f659e9d-18b2-4a7b-8948-bc64e58f1326",
   "metadata": {},
   "outputs": [
    {
     "data": {
      "image/png": "[encoded data removed]",
      "text/plain": [
       "<Figure size 432x288 with 1 Axes>"
      ]
     },
     "metadata": {
      "needs_background": "light"
     },
     "output_type": "display_data"
    }
   ],
   "source": [
    "#Sigmoid implementation\n",
    "def sigmoid(z):\n",
    "    g_z = 1/(1+mt.e**(-z))\n",
    "    \n",
    "    return g_z\n",
    "\n",
    "# Output of the sigmoid function\n",
    "z_test = np.linspace(-10, 10, num=50)\n",
    "g_test = sigmoid(z_test)\n",
    "\n",
    "data_sig = {\"z\": z_test,\n",
    "       \"g(z)\": g_test}\n",
    "\n",
    "dp = pd.DataFrame(data_sig)\n",
    "\n",
    "plt.axvline(x=0, c=\"black\")\n",
    "plt.plot(z_test, g_test, c=\"b\")\n",
    "plt.fill_between(dp[\"z\"][dp.z >= 0], np.linspace(1,1, num=25), alpha=0.2, label=\"z>0\")\n",
    "plt.fill_between(dp[\"z\"][dp.z <= 0], np.linspace(1,1, num=25), alpha=0.2, label=\"z<0\")\n",
    "\n",
    "plt.xlabel('z')\n",
    "plt.ylabel('g(z)')\n",
    "plt.title('Sigmoid Function')\n",
    "plt.legend()\n",
    "plt.show()\n"
   ]
  },
  {
   "cell_type": "markdown",
   "id": "19165007-20a4-4390-a0df-4375f7ec3a1f",
   "metadata": {},
   "source": [
    "### 2.4 - Cost function for Logistic Regression\n",
    "\n",
    "The cost function for this type of classification model is\n",
    "\n",
    "$$ J(\\mathbf{w},b) = \\frac{1}{m}\\sum_{i=0}^{m-1} \\left[ loss(f_{\\mathbf{w},b}(\\mathbf{x}^{(i)}), y^{(i)}) \\right] \\tag{3}$$\n",
    "\n",
    "Where the $loss$ is define as\n",
    "\n",
    "$$loss_{f_{\\vec{w},b}(\\vec{x})}= -y^{(i)}\\cdot log(f_{\\vec{w},b}(\\vec{x}))-(1-y^{(i)})\\cdot(1-f_{\\vec{w},b}(\\vec{x})) \\tag{4}$$\n",
    "\n",
    "* **$y^{(i)}:$** Actual value of classifcation\n",
    "* **$f_{\\vec{w},b}(\\vec{x}):$** Value computed by the sigmoid function"
   ]
  },
  {
   "cell_type": "code",
   "execution_count": 5,
   "id": "985fd0f4-a7e0-45ac-aefb-f169740c4b02",
   "metadata": {},
   "outputs": [],
   "source": [
    "# Implementaion of the Cost Function\n",
    "\n",
    "def compute_cost(X, y, w, b, lambda_= 1):  \n",
    "    # Shape of the matriz\n",
    "    m, n = X.shape\n",
    "    # Cost inicialized\n",
    "    total_cost = 0\n",
    "    \n",
    "    for i in range(m):\n",
    "        # Calculation of Z\n",
    "        z = np.dot(X[i], w) + b\n",
    "        # Value of sigmoid function\n",
    "        g_z = sigmoid(z)\n",
    "        # Sum of the cost\n",
    "        total_cost += (-y[i]*(np.log(g_z))-(1-y[i])*(np.log(1-g_z)))\n",
    "    \n",
    "    # Mean cost\n",
    "    total_cost = total_cost/m\n",
    "    \n",
    "    return total_cost"
   ]
  },
  {
   "cell_type": "markdown",
   "id": "6e4fadb0-84d1-44ed-b936-26d1186af06d",
   "metadata": {},
   "source": [
    "### 2.5 Gradient for Logistic Regression\n",
    "\n",
    "It is repeated the algorithm until the following expressions converges. The loop is defined by the length of the features.\n",
    "\n",
    "$$w_{j}= w - \\alpha \\cdot \\frac{\\partial}{\\partial w_{j}}J(\\vec{x},b)|\\frac{\\partial}{\\partial w_{j}}J(\\vec{x},b) = \\frac{1}{m} \\sum\\limits_{i = 1}^{m} (f_{w,b}({x}^{(i)}) - \\mathbf{y}^{(i)})\\cdot x^{(i)} \\tag{5}$$\n",
    "\n",
    "$$b= b - \\alpha \\cdot \\frac{\\partial}{\\partial b}J(\\vec{x},b)|\\frac{\\partial}{\\partial b}J(\\vec{x},b)= \\frac{1}{m} \\sum\\limits_{i = 1}^{m} (f_{w,b}({x}^{(i)}) - \\mathbf{y}^{(i)}) \\tag{6}$$\n",
    "\n",
    "Note that the values of $w_{j}$ and $b$ are updated only when the values of equations (5) and (6) are cuantify. "
   ]
  },
  {
   "cell_type": "code",
   "execution_count": 6,
   "id": "f82a22c3-dee4-4159-b6ad-3c9a2b55bf69",
   "metadata": {},
   "outputs": [],
   "source": [
    "def compute_gradient(X, y, w, b, lambda_=None): \n",
    "    m, n = X.shape\n",
    "    dj_dw = np.zeros(w.shape)\n",
    "    dj_db = 0.\n",
    "\n",
    "    # Inicializaton of the error\n",
    "    for i in range(m):\n",
    "        # Calculation of the error\n",
    "        z = np.dot(X[i], w) + b\n",
    "        g_z = sigmoid(z)\n",
    "        error = (g_z - y[i])\n",
    "        \n",
    "        for j in range(n):       \n",
    "            # Gradient computation\n",
    "            dj_dw[j] += error*X[i,j]\n",
    "        dj_db += error\n",
    "    \n",
    "    # Mean    \n",
    "    dj_dw = dj_dw/m\n",
    "    dj_db = dj_db/m\n",
    "\n",
    "    return dj_db, dj_dw\n",
    "\n",
    "def gradient_descent(X, y, w_in, b_in, cost_function, gradient_function, alpha, num_iters, lambda_): \n",
    "    \n",
    "    # Training examples\n",
    "    m = len(X)\n",
    "    \n",
    "    # Array for J and w\n",
    "    J_h= []\n",
    "    w_h = []\n",
    "    \n",
    "    for i in range(num_iters):\n",
    "\n",
    "        # Gradient calculation \n",
    "        dj_db, dj_dw = compute_gradient(X, y, w_in, b_in, lambda_)   \n",
    "\n",
    "        # Parameter update\n",
    "        w_in = w_in - alpha * dj_dw               \n",
    "        b_in = b_in - alpha * dj_db              \n",
    "       \n",
    "        # Resource exhaustion prevention\n",
    "        if i<100000:      \n",
    "            cost =  np.around(compute_cost(X, y, w_in, b_in, lambda_), 2)\n",
    "        # Print every 1000 iter\n",
    "        if i% mt.ceil(num_iters/10) == 0 or i == (num_iters-1):\n",
    "            # Cost calculation\n",
    "            cost =  compute_cost(X, y, w_in, b_in, lambda_)\n",
    "            J_h.append(cost)\n",
    "            w_h.append(w_in)\n",
    "        \n",
    "    return w_in, b_in, J_h, w_h"
   ]
  },
  {
   "cell_type": "markdown",
   "id": "11f5b144-8791-4207-bc3e-743d51c9d612",
   "metadata": {},
   "source": [
    "### 2.6 Learning Parameters\n",
    "\n",
    "With the use of the gradient descendant algorithm, it is update the parameters values and the influence over the cost function. For a simpler way to analyse the performance, the data u"
   ]
  },
  {
   "cell_type": "code",
   "execution_count": 7,
   "id": "2e1c3dc2-02ad-483c-bac8-83b8f93ce759",
   "metadata": {},
   "outputs": [
    {
     "data": {
      "text/html": [
       "<div>\n",
       "<style scoped>\n",
       "    .dataframe tbody tr th:only-of-type {\n",
       "        vertical-align: middle;\n",
       "    }\n",
       "\n",
       "    .dataframe tbody tr th {\n",
       "        vertical-align: top;\n",
       "    }\n",
       "\n",
       "    .dataframe thead th {\n",
       "        text-align: right;\n",
       "    }\n",
       "</style>\n",
       "<table border=\"1\" class=\"dataframe\">\n",
       "  <thead>\n",
       "    <tr style=\"text-align: right;\">\n",
       "      <th></th>\n",
       "      <th>Iteration</th>\n",
       "      <th>Cost</th>\n",
       "    </tr>\n",
       "  </thead>\n",
       "  <tbody>\n",
       "    <tr>\n",
       "      <th>0</th>\n",
       "      <td>0</td>\n",
       "      <td>[0.9442988173753909]</td>\n",
       "    </tr>\n",
       "    <tr>\n",
       "      <th>1</th>\n",
       "      <td>1000</td>\n",
       "      <td>[0.3037918025492215]</td>\n",
       "    </tr>\n",
       "    <tr>\n",
       "      <th>2</th>\n",
       "      <td>2000</td>\n",
       "      <td>[0.30343219275729655]</td>\n",
       "    </tr>\n",
       "    <tr>\n",
       "      <th>3</th>\n",
       "      <td>3000</td>\n",
       "      <td>[0.3030749422298283]</td>\n",
       "    </tr>\n",
       "    <tr>\n",
       "      <th>4</th>\n",
       "      <td>4000</td>\n",
       "      <td>[0.30272002760414546]</td>\n",
       "    </tr>\n",
       "    <tr>\n",
       "      <th>5</th>\n",
       "      <td>5000</td>\n",
       "      <td>[0.3023674258252912]</td>\n",
       "    </tr>\n",
       "    <tr>\n",
       "      <th>6</th>\n",
       "      <td>6000</td>\n",
       "      <td>[0.30201711414101234]</td>\n",
       "    </tr>\n",
       "    <tr>\n",
       "      <th>7</th>\n",
       "      <td>7000</td>\n",
       "      <td>[0.3016690700968552]</td>\n",
       "    </tr>\n",
       "    <tr>\n",
       "      <th>8</th>\n",
       "      <td>8000</td>\n",
       "      <td>[0.30132327153134775]</td>\n",
       "    </tr>\n",
       "    <tr>\n",
       "      <th>9</th>\n",
       "      <td>9000</td>\n",
       "      <td>[0.30097969657127543]</td>\n",
       "    </tr>\n",
       "    <tr>\n",
       "      <th>10</th>\n",
       "      <td>9999</td>\n",
       "      <td>[0.3006386639072024]</td>\n",
       "    </tr>\n",
       "  </tbody>\n",
       "</table>\n",
       "</div>"
      ],
      "text/plain": [
       "    Iteration                   Cost\n",
       "0           0   [0.9442988173753909]\n",
       "1        1000   [0.3037918025492215]\n",
       "2        2000  [0.30343219275729655]\n",
       "3        3000   [0.3030749422298283]\n",
       "4        4000  [0.30272002760414546]\n",
       "5        5000   [0.3023674258252912]\n",
       "6        6000  [0.30201711414101234]\n",
       "7        7000   [0.3016690700968552]\n",
       "8        8000  [0.30132327153134775]\n",
       "9        9000  [0.30097969657127543]\n",
       "10       9999   [0.3006386639072024]"
      ]
     },
     "execution_count": 7,
     "metadata": {},
     "output_type": "execute_result"
    }
   ],
   "source": [
    "np.random.seed(1)\n",
    "initial_w = 0.01 * (np.random.rand(2).reshape(-1,1) - 0.5)\n",
    "initial_b = -8\n",
    "\n",
    "\n",
    "# Some gradient descent settings\n",
    "iterations = 10000\n",
    "alpha = 0.001\n",
    "\n",
    "w,b,cost_final,_ = gradient_descent(X_train ,Y_train, initial_w, initial_b, \n",
    "                                   compute_cost, compute_gradient, alpha, iterations, 0)\n",
    "\n",
    "data_final = {\"Iteration\": [0, 1000, 2000, 3000, 4000, 5000, 6000, 7000, 8000, 9000, 9999],\n",
    "             \"Cost\": cost_final}\n",
    "\n",
    "dp_final = pd.DataFrame(data_final)\n",
    "dp_final.head(11)\n"
   ]
  },
  {
   "cell_type": "markdown",
   "id": "a1a8fd72-d857-4435-9a15-9da6c0c99ab4",
   "metadata": {},
   "source": [
    "### 2.7 - Plotting decision bondary\n",
    "\n",
    "From the fist figure, then it is potted the decision boundary as shown a follows"
   ]
  },
  {
   "cell_type": "code",
   "execution_count": 8,
   "id": "0669e318-0e1f-487b-afd1-81eeb9c178e1",
   "metadata": {},
   "outputs": [
    {
     "data": {
      "image/png": "[encoded data removed]",
      "text/plain": [
       "<Figure size 432x288 with 1 Axes>"
      ]
     },
     "metadata": {
      "needs_background": "light"
     },
     "output_type": "display_data"
    }
   ],
   "source": [
    "def plot_data(X, y, pos_label=\"y=1\", neg_label=\"y=0\"):\n",
    "    # Credit to DeepLearning Standford archives\n",
    "     \n",
    "    positive = y == 1\n",
    "    negative = y == 0\n",
    "    \n",
    "    # Plot examples\n",
    "    plt.plot(X[positive, 0], X[positive, 1], 'o', label=\"Admited\", c='blue')\n",
    "    plt.plot(X[negative, 0], X[negative, 1], 'x', label=\"Not admited\", c='red')\n",
    "    \n",
    "def plot_decision_boundary(w, b, X, y):\n",
    "    # Credit to dibgerge on Github for this plotting code\n",
    "     \n",
    "    plot_data(X[:, 0:2], y)\n",
    "    \n",
    "    if X.shape[1] <= 2:\n",
    "        plot_x = np.array([min(X[:, 0]), max(X[:, 0])])\n",
    "        plot_y = (-1. / w[1]) * (w[0] * plot_x + b)\n",
    "        \n",
    "        plt.plot(plot_x, plot_y, c=\"black\")\n",
    "        \n",
    "    else:\n",
    "        u = np.linspace(-1, 1.5, 50)\n",
    "        v = np.linspace(-1, 1.5, 50)\n",
    "        \n",
    "        z = np.zeros((len(u), len(v)))\n",
    "\n",
    "        # Evaluate z = theta*x over the grid\n",
    "        for i in range(len(u)):\n",
    "            for j in range(len(v)):\n",
    "                z[i,j] = sig(np.dot(map_feature(u[i], v[j]), w) + b)\n",
    "        \n",
    "        # important to transpose z before calling contour       \n",
    "        z = z.T\n",
    "        \n",
    "        # Plot z = 0.5\n",
    "        plt.contour(u,v,z, levels = [0.5], colors=\"g\")\n",
    "\n",
    "plot_decision_boundary(w, b, X_train, Y_train)\n",
    "\n",
    "plt.xlabel('Exam 1 score')\n",
    "plt.ylabel('Exam 2 score')\n",
    "plt.legend()\n",
    "plt.show()"
   ]
  },
  {
   "cell_type": "markdown",
   "id": "c2d20a0c-326f-44bf-84fe-a7206f4edcdc",
   "metadata": {},
   "source": [
    "### 2.8 - Evaluating the model\n",
    "\n",
    "Finally, it is implemented a function that able the user predict base en the parameters found and whatever input. The code is showwn in the next cell:"
   ]
  },
  {
   "cell_type": "code",
   "execution_count": 9,
   "id": "a3c254da-c992-4b03-aa20-159aa30449b5",
   "metadata": {},
   "outputs": [],
   "source": [
    "def predict(X, w, b): \n",
    "    # number of training examples\n",
    "    m, n = X.shape   \n",
    "    \n",
    "    # prediction\n",
    "    p = np.zeros(m)\n",
    "    \n",
    "    # Threshold\n",
    "    th = 0.5\n",
    "   \n",
    "    for i in range(m):   \n",
    "        z = np.dot(X[i], w) + b\n",
    "        f_wb = sigmoid(z)\n",
    "        \n",
    "        if f_wb < th:\n",
    "            p[i] = 0\n",
    "        else:\n",
    "            p[i] = 1\n",
    "    return p"
   ]
  },
  {
   "cell_type": "markdown",
   "id": "8bdfe4d7-5628-4ad3-9fb2-92ca5b31889b",
   "metadata": {},
   "source": [
    "Futhermore, it is cuantify the accuracy of the train"
   ]
  },
  {
   "cell_type": "code",
   "execution_count": 10,
   "id": "53015d88-d52d-499a-b16c-fb65c2b5d861",
   "metadata": {},
   "outputs": [
    {
     "name": "stdout",
     "output_type": "stream",
     "text": [
      "Train Accuracy: 91.919192\n"
     ]
    }
   ],
   "source": [
    "#Compute accuracy on our training set\n",
    "p = predict(X_train, w,b)\n",
    "print('Train Accuracy: %f'%(np.mean(p == Y_train) * 100))"
   ]
  },
  {
   "cell_type": "markdown",
   "id": "96774604-a728-4fac-a831-f0e24d382473",
   "metadata": {},
   "source": [
    "Then, it can be cocnluded that the train can classify effectivily base on the two grades inputs."
   ]
  }
 ],
 "metadata": {
  "kernelspec": {
   "display_name": "Python 3",
   "language": "python",
   "name": "python3"
  },
  "language_info": {
   "codemirror_mode": {
    "name": "ipython",
    "version": 3
   },
   "file_extension": ".py",
   "mimetype": "text/x-python",
   "name": "python",
   "nbconvert_exporter": "python",
   "pygments_lexer": "ipython3",
   "version": "3.8.8"
  }
 },
 "nbformat": 4,
 "nbformat_minor": 5
}
